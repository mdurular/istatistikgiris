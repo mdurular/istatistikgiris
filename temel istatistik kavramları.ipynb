{
 "cells": [
  {
   "cell_type": "code",
   "execution_count": 1,
   "metadata": {},
   "outputs": [
    {
     "name": "stdout",
     "output_type": "stream",
     "text": [
      "0    a\n",
      "1    b\n",
      "2    c\n",
      "3    d\n",
      "dtype: category\n",
      "Categories (4, object): [a, b, c, d]\n",
      "0    1\n",
      "1    3\n",
      "2    5\n",
      "3    7\n",
      "4    9\n",
      "dtype: int64\n"
     ]
    }
   ],
   "source": [
    "# Uygulama\n",
    "\n",
    "## Öncelikle Pandas kütüphanesini yükleyelim\n",
    "import pandas as pd\n",
    "\n",
    "## Nitel Değişken\n",
    "nitel = pd.Series(['a','b','c','d'], dtype=\"category\")\n",
    "print(nitel)\n",
    "\n",
    "## Nicel Değişken\n",
    "nicel=pd.Series([1,3,5,7,9])\n",
    "print(nicel)"
   ]
  },
  {
   "cell_type": "code",
   "execution_count": 2,
   "metadata": {},
   "outputs": [
    {
     "name": "stdout",
     "output_type": "stream",
     "text": [
      "[71.59526836 75.71467623 71.09197324 79.49177348 65.70074802 76.33211732\n",
      " 62.25303493 67.221392   73.4321005  59.06553454 76.41996093 72.29807122\n",
      " 57.93806486 68.76190005 64.38574494 76.074081   57.67316276 71.26124424\n",
      " 71.18856273 66.76523447 70.68711091 69.80034945 74.34575321 79.15812747\n",
      " 68.0453313  76.08297741 71.58174494 70.25075816 60.42043023 86.54694934\n",
      " 73.38063157 70.86792789 53.97927935 70.03933338 77.20776013 78.49712711\n",
      " 66.02650394 74.09175288 57.67367386 64.28033694 59.94618085 72.98382058\n",
      " 68.39843563 62.39087967 63.32943404 57.02051805 64.86352017 74.04709176\n",
      " 79.62046993 77.63913312 74.29941703 88.37702457 67.27664666 61.0183698\n",
      " 60.84085903 71.57911043 69.59848382 77.67068774 72.19880534 56.13329583\n",
      " 51.36134472 66.69727651 71.2743657  68.70607569 71.65256967 67.11361976\n",
      " 67.97164337 71.43613733 73.6348281  71.22130112 76.00277917 59.82616418\n",
      " 71.80533279 72.65976278 64.96205387 71.44993267 65.34937518 72.34512063\n",
      " 74.7682785  81.57912136 70.31865397 76.12344554 86.13231197 79.72795179\n",
      " 58.73604659 65.56840101 54.43451474 65.94892092 75.13961588 80.25148253\n",
      " 71.81079271 78.597557   75.3103781  61.09529752 66.44191766 65.03865686\n",
      " 74.97078072 63.08065953 68.35818397 72.87633896 64.68130367 66.30732917\n",
      " 65.76687231 68.2041909  65.09356493 68.30598039 58.74825263 61.02776113\n",
      " 64.74879498 70.63880664 68.3466014  58.45010516 62.58187417 60.88873249\n",
      " 64.56104457 56.55837056 64.72262328 72.55599286 54.52422662 59.63073518\n",
      " 59.97895336 61.20340964 58.15390191 65.39383864 68.14746056 60.61512406\n",
      " 61.90871659 52.66745845 66.64079253 59.73506116 69.89399242 62.1663665\n",
      " 57.25955723 64.68149066 53.86774335 76.93134479 64.17367434 62.51962909\n",
      " 59.95021935 60.7399716  75.10714677 69.46222812 63.21835809 55.03151695\n",
      " 61.20412268 63.83552154 69.08030788 68.71549751 70.69529894 61.31657581\n",
      " 58.98549322 66.84350768 59.90051266 62.90730018 65.15647593 64.62392307\n",
      " 55.84905395 58.76076881 60.98347151 61.27264758 60.78994187 62.99757858\n",
      " 67.39487689 56.32382969 54.94747561 64.21028965 63.31980792 72.70894068\n",
      " 65.93471598 56.38830712 69.86191369 64.14400077 59.40060257 57.87581849\n",
      " 58.78190098 66.09350508 59.88304579 67.54451708 72.894465   61.44555001\n",
      " 58.761356   66.5221071  64.96872138 62.38678679 58.0049308  60.64342474\n",
      " 65.00430005 61.291119   68.00999201 64.20011756 64.44209661 69.82951012\n",
      " 61.25133661 64.04371109 69.19389026 68.17946649 63.21555434 64.74764885\n",
      " 64.21767598 62.42644225]\n"
     ]
    }
   ],
   "source": [
    "import numpy as np\n",
    "\n",
    "# Bir önceki kodda Pandas'ı zaten yüklemiştik\n",
    "df = pd.DataFrame()\n",
    "\n",
    "# Daha önce oluşturulan boş veri çerçevesine veri tanımlayalım\n",
    "df['age'] = [28, 42, 27, 24, 35, 54, 35, 37]\n",
    "\n",
    "# Normal Dağılımdan rastgele sayı seçelim\n",
    "\n",
    "rassal=np.append(np.random.normal(69, 8, 100), np.random.normal(64, 5, 100))\n",
    "print(rassal)"
   ]
  },
  {
   "cell_type": "code",
   "execution_count": 3,
   "metadata": {},
   "outputs": [
    {
     "name": "stdout",
     "output_type": "stream",
     "text": [
      "35.25\n",
      "66.59421275055152\n"
     ]
    }
   ],
   "source": [
    "# Hazır (built-in) Python fonksiyonları kullanarak ortalama hesaplama\n",
    "sum(df['age']) / len(df['age'])\n",
    "\n",
    "sum(rassal)/len(rassal)\n",
    "\n",
    "print(np.mean(df['age']))\n",
    "print(np.mean(rassal))"
   ]
  },
  {
   "cell_type": "code",
   "execution_count": 5,
   "metadata": {},
   "outputs": [
    {
     "name": "stdout",
     "output_type": "stream",
     "text": [
      "35.0\n",
      "35.0\n"
     ]
    }
   ],
   "source": [
    "# Python'ın statistics modülünü yüklüyoruz\n",
    "import statistics\n",
    "\n",
    "print(statistics.median(df['age']))\n",
    "\n",
    "# veya numpy ile\n",
    "# numpy'ı yukarıda yüklemiştik\n",
    "\n",
    "print(np.median(df['age']))"
   ]
  },
  {
   "cell_type": "code",
   "execution_count": 6,
   "metadata": {},
   "outputs": [
    {
     "data": {
      "text/plain": [
       "35"
      ]
     },
     "execution_count": 6,
     "metadata": {},
     "output_type": "execute_result"
    }
   ],
   "source": [
    "# Hazır istatistiksel Python konu ile mod hesaplama\n",
    "import statistics\n",
    "statistics.mode(df['age'])"
   ]
  },
  {
   "cell_type": "code",
   "execution_count": 10,
   "metadata": {},
   "outputs": [
    {
     "name": "stdout",
     "output_type": "stream",
     "text": [
      "92.5\n",
      "92.5\n"
     ]
    }
   ],
   "source": [
    "print(np.var(df['age'], ddof=1))\n",
    "print(df['age'].var())"
   ]
  },
  {
   "cell_type": "code",
   "execution_count": null,
   "metadata": {},
   "outputs": [],
   "source": []
  }
 ],
 "metadata": {
  "kernelspec": {
   "display_name": "Python 3",
   "language": "python",
   "name": "python3"
  },
  "language_info": {
   "codemirror_mode": {
    "name": "ipython",
    "version": 3
   },
   "file_extension": ".py",
   "mimetype": "text/x-python",
   "name": "python",
   "nbconvert_exporter": "python",
   "pygments_lexer": "ipython3",
   "version": "3.7.4"
  }
 },
 "nbformat": 4,
 "nbformat_minor": 2
}
