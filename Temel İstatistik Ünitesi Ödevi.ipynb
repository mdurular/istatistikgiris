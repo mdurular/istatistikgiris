{
 "cells": [
  {
   "cell_type": "code",
   "execution_count": 11,
   "metadata": {},
   "outputs": [],
   "source": [
    "import math\n",
    "import numpy as np\n",
    "import pandas as pd"
   ]
  },
  {
   "cell_type": "code",
   "execution_count": 21,
   "metadata": {},
   "outputs": [
    {
     "data": {
      "text/html": [
       "<div>\n",
       "<style scoped>\n",
       "    .dataframe tbody tr th:only-of-type {\n",
       "        vertical-align: middle;\n",
       "    }\n",
       "\n",
       "    .dataframe tbody tr th {\n",
       "        vertical-align: top;\n",
       "    }\n",
       "\n",
       "    .dataframe thead th {\n",
       "        text-align: right;\n",
       "    }\n",
       "</style>\n",
       "<table border=\"1\" class=\"dataframe\">\n",
       "  <thead>\n",
       "    <tr style=\"text-align: right;\">\n",
       "      <th></th>\n",
       "      <th>Erkek Yaş</th>\n",
       "      <th>Kadın Yaş</th>\n",
       "      <th>Çocuk Yaş</th>\n",
       "    </tr>\n",
       "  </thead>\n",
       "  <tbody>\n",
       "    <tr>\n",
       "      <td>0</td>\n",
       "      <td>46</td>\n",
       "      <td>73</td>\n",
       "      <td>7</td>\n",
       "    </tr>\n",
       "    <tr>\n",
       "      <td>1</td>\n",
       "      <td>49</td>\n",
       "      <td>50</td>\n",
       "      <td>15</td>\n",
       "    </tr>\n",
       "    <tr>\n",
       "      <td>2</td>\n",
       "      <td>32</td>\n",
       "      <td>68</td>\n",
       "      <td>16</td>\n",
       "    </tr>\n",
       "    <tr>\n",
       "      <td>3</td>\n",
       "      <td>34</td>\n",
       "      <td>60</td>\n",
       "      <td>15</td>\n",
       "    </tr>\n",
       "    <tr>\n",
       "      <td>4</td>\n",
       "      <td>44</td>\n",
       "      <td>82</td>\n",
       "      <td>11</td>\n",
       "    </tr>\n",
       "  </tbody>\n",
       "</table>\n",
       "</div>"
      ],
      "text/plain": [
       "   Erkek Yaş  Kadın Yaş  Çocuk Yaş\n",
       "0         46         73          7\n",
       "1         49         50         15\n",
       "2         32         68         16\n",
       "3         34         60         15\n",
       "4         44         82         11"
      ]
     },
     "execution_count": 21,
     "metadata": {},
     "output_type": "execute_result"
    }
   ],
   "source": [
    "import numpy as np\n",
    "import pandas as pd\n",
    "yas=pd.DataFrame()\n",
    "yas['Erkek Yaş']=np.random.randint(18,90,51)\n",
    "yas['Kadın Yaş']=np.random.randint(18,90,51)\n",
    "yas['Çocuk Yaş']=np.random.randint(0,18,51)\n",
    "yas.head()"
   ]
  },
  {
   "cell_type": "code",
   "execution_count": 14,
   "metadata": {},
   "outputs": [
    {
     "name": "stdout",
     "output_type": "stream",
     "text": [
      "Erkek Ort Yaş: 55.568627450980394\n",
      "Erkek Ort Yaş: 55.568627450980394\n",
      "Kadın Ort Yaş: 56.72549019607843\n",
      "Kadın Ort Yaş: 56.72549019607843\n",
      "Çocuk Ort Yaş: 8.313725490196079\n",
      "Çocuk Ort Yaş: 8.313725490196079\n"
     ]
    }
   ],
   "source": [
    "# ortalama hesaplama\n",
    "Erkek_Ort_Yas=sum(yas['Erkek Yaş']) / len(yas['Erkek Yaş'])\n",
    "print(\"Erkek Ort Yaş:\", Erkek_Ort_Yas)\n",
    "print(\"Erkek Ort Yaş:\", np.mean(yas['Erkek Yaş']))\n",
    "\n",
    "Kadın_Ort_Yas=sum(yas['Kadın Yaş']) / len(yas['Kadın Yaş'])\n",
    "print(\"Kadın Ort Yaş:\", Kadın_Ort_Yas)\n",
    "print(\"Kadın Ort Yaş:\", np.mean(yas['Kadın Yaş']))\n",
    "\n",
    "Cocuk_Ort_Yas=sum(yas['Çocuk Yaş']) / len(yas['Çocuk Yaş'])\n",
    "print(\"Çocuk Ort Yaş:\", Cocuk_Ort_Yas)\n",
    "print(\"Çocuk Ort Yaş:\", np.mean(yas['Çocuk Yaş']))"
   ]
  },
  {
   "cell_type": "code",
   "execution_count": 15,
   "metadata": {},
   "outputs": [
    {
     "name": "stdout",
     "output_type": "stream",
     "text": [
      "55\n",
      "65\n",
      "8\n"
     ]
    }
   ],
   "source": [
    "# medyan hesaplama\n",
    "import statistics\n",
    "\n",
    "print(statistics.median(yas['Erkek Yaş']))\n",
    "\n",
    "print(statistics.median(yas['Kadın Yaş']))\n",
    "\n",
    "print(statistics.median(yas['Çocuk Yaş']))\n",
    "\n"
   ]
  },
  {
   "cell_type": "code",
   "execution_count": 19,
   "metadata": {},
   "outputs": [
    {
     "name": "stdout",
     "output_type": "stream",
     "text": [
      "Median:  41\n"
     ]
    }
   ],
   "source": [
    "n = len(yas['Erkek Yaş']) \n",
    "yas=yas.sort_values('Erkek Yaş')\n",
    "if n % 2 == 0: \n",
    "    medyan1 = yas['Erkek Yaş'][n//2] \n",
    "    medyan2 = yas['Erkek Yaş'][n//2 - 1] \n",
    "    medyan = (median1 + median2)/2\n",
    "else: \n",
    "    medyan = yas['Erkek Yaş'][n//2]\n",
    "    \n",
    "print(\"Median: \" , medyan) "
   ]
  },
  {
   "cell_type": "code",
   "execution_count": 22,
   "metadata": {},
   "outputs": [
    {
     "name": "stdout",
     "output_type": "stream",
     "text": [
      "85\n"
     ]
    }
   ],
   "source": [
    "# mod hesaplama\n",
    "import statistics\n",
    "statistics.mode(yas['Erkek Yaş'])\n",
    "\n",
    "# Formülle\n",
    "(values, counts) = np.unique(yas['Erkek Yaş'], return_counts=True)\n",
    " \n",
    "ind = np.argmax(counts)\n",
    "\n",
    "print(values[ind])\n"
   ]
  },
  {
   "cell_type": "code",
   "execution_count": 23,
   "metadata": {},
   "outputs": [
    {
     "name": "stdout",
     "output_type": "stream",
     "text": [
      "488.21019607843135\n",
      "488.21019607843135\n",
      "353.81254901960784\n"
     ]
    }
   ],
   "source": [
    "# varyansı bulma\n",
    "print(np.var(yas['Erkek Yaş'], ddof=1))\n",
    "print(yas['Erkek Yaş'].var())\n",
    "print(yas['Kadın Yaş'].var())"
   ]
  },
  {
   "cell_type": "code",
   "execution_count": 24,
   "metadata": {},
   "outputs": [
    {
     "data": {
      "text/plain": [
       "18.809905609003142"
      ]
     },
     "execution_count": 24,
     "metadata": {},
     "output_type": "execute_result"
    }
   ],
   "source": [
    "# stardat sapma\n",
    "np.std(yas['Kadın Yaş'], ddof=1)\n",
    "np.sqrt(yas['Kadın Yaş'].var())"
   ]
  },
  {
   "cell_type": "code",
   "execution_count": 25,
   "metadata": {},
   "outputs": [
    {
     "data": {
      "text/plain": [
       "2.633913620673385"
      ]
     },
     "execution_count": 25,
     "metadata": {},
     "output_type": "execute_result"
    }
   ],
   "source": [
    "#  standart hata\n",
    "np.std(yas['Kadın Yaş'] ,ddof=1) / np.sqrt(len(yas['Kadın Yaş']))\n"
   ]
  },
  {
   "cell_type": "code",
   "execution_count": null,
   "metadata": {},
   "outputs": [],
   "source": []
  }
 ],
 "metadata": {
  "kernelspec": {
   "display_name": "Python 3",
   "language": "python",
   "name": "python3"
  },
  "language_info": {
   "codemirror_mode": {
    "name": "ipython",
    "version": 3
   },
   "file_extension": ".py",
   "mimetype": "text/x-python",
   "name": "python",
   "nbconvert_exporter": "python",
   "pygments_lexer": "ipython3",
   "version": "3.7.4"
  }
 },
 "nbformat": 4,
 "nbformat_minor": 2
}
