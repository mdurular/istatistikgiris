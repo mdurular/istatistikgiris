{
 "cells": [
  {
   "cell_type": "markdown",
   "metadata": {},
   "source": [
    "A şirketinin sattığı bilgisayarın bazılarının bozuk olduğu tespit edilmiştir. Bilgisyar üreten 3 şirket (A, B ve C) olduğunu varsayımı altında, bu şirketlerin bilgisayar üretim miktarı ve bozuk üretim olasılıkları şu şekildedir:\n",
    "\n",
    "Toplam Üretim Yüzdesi P(A)=0.40 P(B)=0.40 P(C)=0.20\n",
    "\n",
    "Hatalı Üretim Olasılığı\n",
    "\n",
    "P(D|A)=0.015 P(D|B)=0.020 P(D|C)=0.010\n",
    "\n",
    "Rastgele seçilen bir bozuk bir bilgisayarın B şirketi tarafından üretilme olasılığı nedir?\n",
    "\n",
    "Soru Bayes Yöntemi ile Çözülecektir.\n",
    "\n",
    "Bozuk Bilgisayarın 'ye Ait Olma Olasılığı=B'nin Bozuk Üretme Olasılığı/Toplam Bozuk Üretilme Olasılığı\n",
    "\n",
    "P(B/D)=P(B)P(D / B) / (P(A)P(D / A) + P(B)P(D / B) + P(C)P(D /C))"
   ]
  },
  {
   "cell_type": "code",
   "execution_count": 8,
   "metadata": {},
   "outputs": [
    {
     "name": "stdout",
     "output_type": "stream",
     "text": [
      "A Firması üretim Oranı:0.4\n",
      "B Firması üretim Oranı:0.4\n",
      "C Firması üretim Oranı:0.2\n",
      "A Firması bozuk üretim Oranı:0.015\n",
      "B Firması bozuk üretim Oranı:0.02\n",
      "C Firması bozuk üretim Oranı:0.01\n",
      "Seçmek istediğiniz Firmayı Yazınız:B\n",
      "0.5\n"
     ]
    }
   ],
   "source": [
    "A=float(input(\"A Firması üretim Oranı:\"))\n",
    "B=float(input(\"B Firması üretim Oranı:\"))\n",
    "C=float(input(\"C Firması üretim Oranı:\"))\n",
    "AB=float(input(\"A Firması bozuk üretim Oranı:\"))\n",
    "BB=float(input(\"B Firması bozuk üretim Oranı:\"))\n",
    "CB=float(input(\"C Firması bozuk üretim Oranı:\"))\n",
    "Secim=str(input(\"Seçmek istediğiniz Firmayı Yazınız:\"))\n",
    "\n",
    "if Secim==\"B\":\n",
    "    Bozuk_blg_B_firması_ihtimali=(B*BB)/(A*AB+B*BB+C*CB)\n",
    "    print(Bozuk_blg_B_firması_ihtimali)\n",
    "elif Secim==\"A\":\n",
    "    Bozuk_blg_A_firması_ihtimali=(A*AB)/(A*AB+B*BB+C*CB)\n",
    "    print(Bozuk_blg_A_firması_ihtimali)\n",
    "elif Secim==\"C\":\n",
    "    Bozuk_blg_C_firması_ihtimali=(C*CB)/(A*AB+B*BB+C*CB)\n",
    "    print(Bozuk_blg_C_firması_ihtimali)\n",
    "else:\n",
    "    print (\"lütfen geçerli bir firma Giriniz!!\")"
   ]
  },
  {
   "cell_type": "code",
   "execution_count": null,
   "metadata": {},
   "outputs": [],
   "source": []
  }
 ],
 "metadata": {
  "kernelspec": {
   "display_name": "Python 3",
   "language": "python",
   "name": "python3"
  },
  "language_info": {
   "codemirror_mode": {
    "name": "ipython",
    "version": 3
   },
   "file_extension": ".py",
   "mimetype": "text/x-python",
   "name": "python",
   "nbconvert_exporter": "python",
   "pygments_lexer": "ipython3",
   "version": "3.7.4"
  }
 },
 "nbformat": 4,
 "nbformat_minor": 2
}
